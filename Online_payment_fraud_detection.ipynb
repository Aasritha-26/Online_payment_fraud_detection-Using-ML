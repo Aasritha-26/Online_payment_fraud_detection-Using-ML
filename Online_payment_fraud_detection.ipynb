{
  "nbformat": 4,
  "nbformat_minor": 0,
  "metadata": {
    "colab": {
      "provenance": []
    },
    "kernelspec": {
      "name": "python3",
      "display_name": "Python 3"
    },
    "language_info": {
      "name": "python"
    }
  },
  "cells": [
    {
      "cell_type": "code",
      "execution_count": null,
      "metadata": {
        "id": "rg9OpXC5SvH_"
      },
      "outputs": [],
      "source": [
        "#Online_payment_fraud_detection\n",
        "#Machine Learning project\n",
        "\n",
        "import numpy as np\n",
        "import pandas as pd\n",
        "import matplotlib.pyplot as plt\n",
        "from sklearn.model_selection import train_test_split\n",
        "from sklearn.metrics import confusion_matrix, accuracy_score, ConfusionMatrixDisplay, precision_score, recall_score\n",
        "from sklearn.ensemble import RandomForestClassifier\n",
        "from sklearn.impute import SimpleImputer\n",
        "from imblearn.over_sampling import SMOTE\n",
        "\n",
        "# Load the dataset\n",
        "data = pd.read_csv('onlinefraud .csv')\n",
        "print('Dataset shape:', data.shape)\n",
        "\n",
        "# One-Hot Encode 'type'\n",
        "type_new = pd.get_dummies(data['type'])\n",
        "data_new = pd.concat([data, type_new], axis=1)\n",
        "\n",
        "# Separate features (X) and target (y)\n",
        "X = data_new.drop(['isFraud', 'type', 'nameOrig', 'nameDest'], axis=1)\n",
        "y = data_new['isFraud']\n",
        "\n",
        "# Split data into training and testing sets\n",
        "X_train, X_test, y_train, y_test = train_test_split(\n",
        "    X, y, test_size=0.3, random_state=42)\n",
        "\n",
        "# Impute missing values\n",
        "imputer = SimpleImputer(strategy='mean')\n",
        "X_train = imputer.fit_transform(X_train)\n",
        "X_test = imputer.transform(X_test)\n",
        "\n",
        "# Convert back to DataFrames\n",
        "X_train = pd.DataFrame(X_train, index=y_train.index)\n",
        "X_test = pd.DataFrame(X_test, index=y_test.index)\n",
        "\n",
        "# 🔄 Apply SMOTE (OverSampling)\n",
        "smote = SMOTE(random_state=42)\n",
        "X_train_res, y_train_res = smote.fit_resample(X_train, y_train)\n",
        "\n",
        "# Train Random Forest with SMOTE data\n",
        "model_smote = RandomForestClassifier(n_estimators=100, criterion='entropy', random_state=7)\n",
        "print(f'\\n{model_smote} (with SMOTE) : ')\n",
        "model_smote.fit(X_train_res, y_train_res)\n",
        "\n",
        "# # Test evaluation\n",
        "y_preds_smote = model_smote.predict(X_test)\n",
        "print('SMOTE Validation Accuracy : ', accuracy_score(y_test, y_preds_smote))\n",
        "print('SMOTE Validation Precision : ', precision_score(y_test, y_preds_smote))\n",
        "print('SMOTE Validation Recall : ', recall_score(y_test, y_preds_smote))\n",
        "\n",
        "# Display confusion matrix for SMOTE\n",
        "cm_smote = confusion_matrix(y_test, y_preds_smote)\n",
        "disp_smote = ConfusionMatrixDisplay(confusion_matrix=cm_smote)\n",
        "disp_smote.plot(cmap='Blues')\n",
        "plt.title('Confusion Matrix - Random Forest (SMOTE)')\n",
        "plt.show()"
      ]
    }
  ]
}